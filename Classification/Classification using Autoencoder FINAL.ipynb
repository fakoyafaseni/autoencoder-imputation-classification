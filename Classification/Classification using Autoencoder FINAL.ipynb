{
 "cells": [
  {
   "cell_type": "code",
   "execution_count": 1,
   "id": "4691a91f",
   "metadata": {},
   "outputs": [],
   "source": [
    "# Required imports\n",
    "from sklearn.model_selection import train_test_split\n",
    "from tensorflow.keras.models import Sequential, Model\n",
    "from tensorflow.keras.layers import Dense, Input\n",
    "from imblearn.over_sampling import SMOTE\n",
    "from tensorflow.keras.utils import to_categorical\n",
    "from sklearn.model_selection import StratifiedKFold\n",
    "from sklearn.metrics import accuracy_score, precision_score, recall_score, f1_score\n",
    "from tensorflow.keras.utils import to_categorical\n",
    "from sklearn.metrics import confusion_matrix\n",
    "import seaborn as sns\n",
    "import matplotlib.pyplot as plt\n",
    "import numpy as np\n",
    "import pandas as pd"
   ]
  },
  {
   "cell_type": "code",
   "execution_count": 3,
   "id": "3fabf6be",
   "metadata": {
    "scrolled": true
   },
   "outputs": [
    {
     "data": {
      "text/html": [
       "<div>\n",
       "<style scoped>\n",
       "    .dataframe tbody tr th:only-of-type {\n",
       "        vertical-align: middle;\n",
       "    }\n",
       "\n",
       "    .dataframe tbody tr th {\n",
       "        vertical-align: top;\n",
       "    }\n",
       "\n",
       "    .dataframe thead th {\n",
       "        text-align: right;\n",
       "    }\n",
       "</style>\n",
       "<table border=\"1\" class=\"dataframe\">\n",
       "  <thead>\n",
       "    <tr style=\"text-align: right;\">\n",
       "      <th></th>\n",
       "      <th>Unnamed: 0.1</th>\n",
       "      <th>Unnamed: 0</th>\n",
       "      <th>RID</th>\n",
       "      <th>lh.Cerebellum.White.Matter</th>\n",
       "      <th>lh.Cerebellum.Cortex</th>\n",
       "      <th>lh.Thalamus.Proper</th>\n",
       "      <th>lh.Caudate</th>\n",
       "      <th>lh.Putamen</th>\n",
       "      <th>lh.Pallidum</th>\n",
       "      <th>X3rd.Ventricle</th>\n",
       "      <th>...</th>\n",
       "      <th>adas_Q7SCORE</th>\n",
       "      <th>adas_Q8SCORE</th>\n",
       "      <th>adas_Q9SCORE</th>\n",
       "      <th>adas_Q10SCORE</th>\n",
       "      <th>adas_Q11SCORE</th>\n",
       "      <th>adas_Q12SCORE</th>\n",
       "      <th>adas_Q13SCORE</th>\n",
       "      <th>APOE4.0</th>\n",
       "      <th>APOE4.1</th>\n",
       "      <th>APOE4.2</th>\n",
       "    </tr>\n",
       "  </thead>\n",
       "  <tbody>\n",
       "    <tr>\n",
       "      <th>0</th>\n",
       "      <td>4</td>\n",
       "      <td>4</td>\n",
       "      <td>69</td>\n",
       "      <td>1.042776</td>\n",
       "      <td>1.112264</td>\n",
       "      <td>1.267889</td>\n",
       "      <td>1.346736</td>\n",
       "      <td>2.233189</td>\n",
       "      <td>5.768378</td>\n",
       "      <td>1.248420</td>\n",
       "      <td>...</td>\n",
       "      <td>8</td>\n",
       "      <td>9</td>\n",
       "      <td>5</td>\n",
       "      <td>5</td>\n",
       "      <td>5</td>\n",
       "      <td>5</td>\n",
       "      <td>4</td>\n",
       "      <td>1.0</td>\n",
       "      <td>0.0</td>\n",
       "      <td>0</td>\n",
       "    </tr>\n",
       "    <tr>\n",
       "      <th>1</th>\n",
       "      <td>10</td>\n",
       "      <td>10</td>\n",
       "      <td>210</td>\n",
       "      <td>0.932077</td>\n",
       "      <td>1.052851</td>\n",
       "      <td>1.207376</td>\n",
       "      <td>1.109218</td>\n",
       "      <td>1.596830</td>\n",
       "      <td>2.150558</td>\n",
       "      <td>1.022413</td>\n",
       "      <td>...</td>\n",
       "      <td>8</td>\n",
       "      <td>10</td>\n",
       "      <td>5</td>\n",
       "      <td>5</td>\n",
       "      <td>5</td>\n",
       "      <td>5</td>\n",
       "      <td>4</td>\n",
       "      <td>1.0</td>\n",
       "      <td>0.0</td>\n",
       "      <td>0</td>\n",
       "    </tr>\n",
       "    <tr>\n",
       "      <th>2</th>\n",
       "      <td>11</td>\n",
       "      <td>11</td>\n",
       "      <td>337</td>\n",
       "      <td>1.040932</td>\n",
       "      <td>1.068165</td>\n",
       "      <td>0.880114</td>\n",
       "      <td>0.944061</td>\n",
       "      <td>2.541997</td>\n",
       "      <td>2.522598</td>\n",
       "      <td>0.358271</td>\n",
       "      <td>...</td>\n",
       "      <td>8</td>\n",
       "      <td>10</td>\n",
       "      <td>5</td>\n",
       "      <td>5</td>\n",
       "      <td>5</td>\n",
       "      <td>5</td>\n",
       "      <td>5</td>\n",
       "      <td>0.0</td>\n",
       "      <td>1.0</td>\n",
       "      <td>0</td>\n",
       "    </tr>\n",
       "    <tr>\n",
       "      <th>3</th>\n",
       "      <td>14</td>\n",
       "      <td>14</td>\n",
       "      <td>416</td>\n",
       "      <td>1.059263</td>\n",
       "      <td>1.165031</td>\n",
       "      <td>1.618939</td>\n",
       "      <td>0.744189</td>\n",
       "      <td>2.062818</td>\n",
       "      <td>1.027406</td>\n",
       "      <td>0.593939</td>\n",
       "      <td>...</td>\n",
       "      <td>8</td>\n",
       "      <td>11</td>\n",
       "      <td>5</td>\n",
       "      <td>5</td>\n",
       "      <td>5</td>\n",
       "      <td>5</td>\n",
       "      <td>5</td>\n",
       "      <td>1.0</td>\n",
       "      <td>0.0</td>\n",
       "      <td>0</td>\n",
       "    </tr>\n",
       "    <tr>\n",
       "      <th>4</th>\n",
       "      <td>50</td>\n",
       "      <td>50</td>\n",
       "      <td>2155</td>\n",
       "      <td>1.027046</td>\n",
       "      <td>1.152940</td>\n",
       "      <td>1.241443</td>\n",
       "      <td>1.089622</td>\n",
       "      <td>1.486336</td>\n",
       "      <td>3.192944</td>\n",
       "      <td>0.958194</td>\n",
       "      <td>...</td>\n",
       "      <td>8</td>\n",
       "      <td>10</td>\n",
       "      <td>5</td>\n",
       "      <td>5</td>\n",
       "      <td>5</td>\n",
       "      <td>5</td>\n",
       "      <td>5</td>\n",
       "      <td>0.0</td>\n",
       "      <td>0.0</td>\n",
       "      <td>1</td>\n",
       "    </tr>\n",
       "  </tbody>\n",
       "</table>\n",
       "<p>5 rows × 226 columns</p>\n",
       "</div>"
      ],
      "text/plain": [
       "   Unnamed: 0.1  Unnamed: 0   RID  lh.Cerebellum.White.Matter  \\\n",
       "0             4           4    69                    1.042776   \n",
       "1            10          10   210                    0.932077   \n",
       "2            11          11   337                    1.040932   \n",
       "3            14          14   416                    1.059263   \n",
       "4            50          50  2155                    1.027046   \n",
       "\n",
       "   lh.Cerebellum.Cortex  lh.Thalamus.Proper  lh.Caudate  lh.Putamen  \\\n",
       "0              1.112264            1.267889    1.346736    2.233189   \n",
       "1              1.052851            1.207376    1.109218    1.596830   \n",
       "2              1.068165            0.880114    0.944061    2.541997   \n",
       "3              1.165031            1.618939    0.744189    2.062818   \n",
       "4              1.152940            1.241443    1.089622    1.486336   \n",
       "\n",
       "   lh.Pallidum  X3rd.Ventricle  ...  adas_Q7SCORE  adas_Q8SCORE  adas_Q9SCORE  \\\n",
       "0     5.768378        1.248420  ...             8             9             5   \n",
       "1     2.150558        1.022413  ...             8            10             5   \n",
       "2     2.522598        0.358271  ...             8            10             5   \n",
       "3     1.027406        0.593939  ...             8            11             5   \n",
       "4     3.192944        0.958194  ...             8            10             5   \n",
       "\n",
       "   adas_Q10SCORE  adas_Q11SCORE  adas_Q12SCORE  adas_Q13SCORE  APOE4.0  \\\n",
       "0              5              5              5              4      1.0   \n",
       "1              5              5              5              4      1.0   \n",
       "2              5              5              5              5      0.0   \n",
       "3              5              5              5              5      1.0   \n",
       "4              5              5              5              5      0.0   \n",
       "\n",
       "   APOE4.1  APOE4.2  \n",
       "0      0.0        0  \n",
       "1      0.0        0  \n",
       "2      1.0        0  \n",
       "3      0.0        0  \n",
       "4      0.0        1  \n",
       "\n",
       "[5 rows x 226 columns]"
      ]
     },
     "execution_count": 3,
     "metadata": {},
     "output_type": "execute_result"
    }
   ],
   "source": [
    "# Load the dataset\n",
    "data = pd.read_csv(\"./data/mcar.csv\")\n",
    "\n",
    "# Display the first few rows of the dataset to understand its structure\n",
    "data.head()\n"
   ]
  },
  {
   "cell_type": "code",
   "execution_count": 4,
   "id": "38ca2f6b",
   "metadata": {},
   "outputs": [
    {
     "name": "stdout",
     "output_type": "stream",
     "text": [
      "<class 'pandas.core.frame.DataFrame'>\n",
      "RangeIndex: 559 entries, 0 to 558\n",
      "Columns: 226 entries, Unnamed: 0.1 to APOE4.2\n",
      "dtypes: float64(191), int64(35)\n",
      "memory usage: 987.1 KB\n"
     ]
    }
   ],
   "source": [
    "data.info()"
   ]
  },
  {
   "cell_type": "code",
   "execution_count": 5,
   "id": "594e5671",
   "metadata": {},
   "outputs": [],
   "source": [
    "# Drop the target and irrelevant columns to form the feature set\n",
    "X = data.drop(columns=['RID','Unnamed: 0.1', 'Unnamed: 0'])\n",
    "y = data['AD_LABEL']"
   ]
  },
  {
   "cell_type": "code",
   "execution_count": 6,
   "id": "0fdb96f2",
   "metadata": {},
   "outputs": [
    {
     "data": {
      "text/plain": [
       "1    363\n",
       "2    137\n",
       "3     59\n",
       "Name: AD_LABEL, dtype: int64"
      ]
     },
     "execution_count": 6,
     "metadata": {},
     "output_type": "execute_result"
    }
   ],
   "source": [
    "y.value_counts()"
   ]
  },
  {
   "cell_type": "code",
   "execution_count": 7,
   "id": "fd1a9ef0",
   "metadata": {},
   "outputs": [],
   "source": [
    "# Split the data into training and validation sets\n",
    "X_train, X_val, y_train, y_val = train_test_split(X, y, test_size=0.2, random_state=42)"
   ]
  },
  {
   "cell_type": "code",
   "execution_count": 8,
   "id": "6ab68d58",
   "metadata": {},
   "outputs": [],
   "source": [
    "# Define the dimensions\n",
    "input_dim = X_train.shape[1]\n",
    "encoding_dim = int(input_dim / 2)  # Compress the features to half their original size"
   ]
  },
  {
   "cell_type": "code",
   "execution_count": 9,
   "id": "098ec7ba",
   "metadata": {},
   "outputs": [],
   "source": [
    "# Build the autoencoder model\n",
    "input_layer = Input(shape=(input_dim,))\n",
    "encoder = Dense(encoding_dim, activation=\"relu\")(input_layer)\n",
    "decoder = Dense(input_dim, activation=\"sigmoid\")(encoder)"
   ]
  },
  {
   "cell_type": "code",
   "execution_count": 10,
   "id": "60a01ba8",
   "metadata": {},
   "outputs": [],
   "source": [
    "autoencoder = Model(inputs=input_layer, outputs=decoder)"
   ]
  },
  {
   "cell_type": "code",
   "execution_count": 11,
   "id": "4fbb9d75",
   "metadata": {},
   "outputs": [],
   "source": [
    "# Compile the model\n",
    "autoencoder.compile(optimizer='adam', loss='mean_squared_error')"
   ]
  },
  {
   "cell_type": "code",
   "execution_count": 12,
   "id": "fa86d36a",
   "metadata": {},
   "outputs": [],
   "source": [
    "# Train the autoencoder\n",
    "history = autoencoder.fit(X_train, X_train,\n",
    "                          epochs=50,\n",
    "                          batch_size=256,\n",
    "                          shuffle=True,\n",
    "                          validation_data=(X_val, X_val),\n",
    "                          verbose=0)"
   ]
  },
  {
   "cell_type": "code",
   "execution_count": 13,
   "id": "4b4fbc20",
   "metadata": {},
   "outputs": [
    {
     "name": "stdout",
     "output_type": "stream",
     "text": [
      "14/14 [==============================] - 0s 3ms/step\n",
      "4/4 [==============================] - 0s 3ms/step\n"
     ]
    }
   ],
   "source": [
    "# Extract the encoder part of the autoencoder\n",
    "encoder_model = Model(inputs=input_layer, outputs=encoder)\n",
    "\n",
    "# Transform the original features to get the compressed features\n",
    "X_train_encoded = encoder_model.predict(X_train)\n",
    "X_val_encoded = encoder_model.predict(X_val)"
   ]
  },
  {
   "cell_type": "code",
   "execution_count": 14,
   "id": "a787c4b6",
   "metadata": {},
   "outputs": [
    {
     "data": {
      "text/plain": [
       "\"compressed_features = pd.DataFrame(X_train_encoded)\\ncompressed_features.to_csv('compressed_features.csv', index=True)\\n\""
      ]
     },
     "execution_count": 14,
     "metadata": {},
     "output_type": "execute_result"
    }
   ],
   "source": [
    "# Export the compressed features to a CSV file\n",
    "\"\"\"compressed_features = pd.DataFrame(X_train_encoded)\n",
    "compressed_features.to_csv('compressed_features.csv', index=True)\n",
    "\"\"\""
   ]
  },
  {
   "cell_type": "code",
   "execution_count": 15,
   "id": "a1ca25f7",
   "metadata": {},
   "outputs": [],
   "source": [
    "# Create an instance of SMOTE\n",
    "smote = SMOTE()\n",
    "\n",
    "# Apply SMOTE to the training data\n",
    "X_train_resampled, y_train_resampled = smote.fit_resample(X_train_encoded, y_train)\n"
   ]
  },
  {
   "cell_type": "code",
   "execution_count": 16,
   "id": "840c3d89",
   "metadata": {
    "scrolled": true
   },
   "outputs": [
    {
     "data": {
      "text/plain": [
       "1    286\n",
       "2    286\n",
       "3    286\n",
       "Name: AD_LABEL, dtype: int64"
      ]
     },
     "execution_count": 16,
     "metadata": {},
     "output_type": "execute_result"
    }
   ],
   "source": [
    "y_train_resampled.value_counts()"
   ]
  },
  {
   "cell_type": "code",
   "execution_count": 17,
   "id": "58f313d0",
   "metadata": {},
   "outputs": [],
   "source": [
    "# Convert labels to one-hot encoded format\n",
    "y_train_onehot = to_categorical(y_train_resampled)\n",
    "\n",
    "# Define the dimensions for the classifier\n",
    "input_dim_classifier = X_train_resampled.shape[1]\n",
    "output_dim_classifier = y_train_onehot.shape[1]\n",
    "\n",
    "# Build the autoencoder-based classifier\n",
    "input_layer_classifier = Input(shape=(input_dim_classifier,))\n",
    "encoder_classifier = Dense(encoding_dim, activation=\"relu\")(input_layer_classifier)\n",
    "output_layer = Dense(output_dim_classifier, activation=\"softmax\")(encoder_classifier)\n",
    "\n",
    "autoencoder_classifier = Model(inputs=input_layer_classifier, outputs=output_layer)\n",
    "\n",
    "# Compile the model\n",
    "autoencoder_classifier.compile(optimizer='adam', loss='categorical_crossentropy', metrics=['accuracy'])\n",
    "\n",
    "# Train the classifier\n",
    "history_classifier = autoencoder_classifier.fit(X_train_resampled, y_train_onehot,\n",
    "                                                epochs=50,\n",
    "                                                batch_size=256,\n",
    "                                                shuffle=True,\n",
    "                                                verbose=0)\n"
   ]
  },
  {
   "cell_type": "code",
   "execution_count": 18,
   "id": "1139bc93",
   "metadata": {
    "scrolled": true
   },
   "outputs": [
    {
     "name": "stdout",
     "output_type": "stream",
     "text": [
      "3/3 [==============================] - 0s 2ms/step\n",
      "3/3 [==============================] - 0s 3ms/step\n",
      "3/3 [==============================] - 0s 2ms/step\n",
      "3/3 [==============================] - 0s 3ms/step\n",
      "3/3 [==============================] - 0s 3ms/step\n",
      "Fold 1 - Accuracy: 0.8000, Precision: 0.8024, Recall: 0.7473, F1-score: 0.7700\n",
      "Fold 2 - Accuracy: 0.8222, Precision: 0.7844, Recall: 0.7650, F1-score: 0.7725\n",
      "Fold 3 - Accuracy: 0.7640, Precision: 0.7976, Recall: 0.6833, F1-score: 0.7174\n",
      "Fold 4 - Accuracy: 0.8315, Precision: 0.8502, Recall: 0.7496, F1-score: 0.7883\n",
      "Fold 5 - Accuracy: 0.8315, Precision: 0.8480, Recall: 0.8206, F1-score: 0.8331\n"
     ]
    }
   ],
   "source": [
    "# Define 5-fold cross-validation\n",
    "kfold = StratifiedKFold(n_splits=5, shuffle=True, random_state=42)\n",
    "\n",
    "# Lists to store performance metrics for each fold\n",
    "accuracies = []\n",
    "precisions = []\n",
    "recalls = []\n",
    "f1_scores = []\n",
    "\n",
    "# Perform 5-fold cross-validation\n",
    "for train_idx, test_idx in kfold.split(X_train_encoded, y_train):\n",
    "    # Split data into training and testing sets for the current fold\n",
    "    X_fold_train, X_fold_test = X_train_encoded[train_idx], X_train_encoded[test_idx]\n",
    "    y_fold_train, y_fold_test = y_train.iloc[train_idx], y_train.iloc[test_idx]\n",
    "    \n",
    "    # Convert labels to one-hot encoded format\n",
    "    y_fold_train_onehot = to_categorical(y_fold_train)\n",
    "    \n",
    "    # Train the autoencoder-based classifier for the current fold\n",
    "    history_classifier = autoencoder_classifier.fit(X_fold_train, y_fold_train_onehot,\n",
    "                                                    epochs=50,\n",
    "                                                    batch_size=256,\n",
    "                                                    shuffle=True,\n",
    "                                                    verbose=0)\n",
    "    \n",
    "    # Predict the labels for the test set\n",
    "    y_pred_probs = autoencoder_classifier.predict(X_fold_test)\n",
    "    y_pred = np.argmax(y_pred_probs, axis=1)\n",
    "    \n",
    "    # Calculate performance metrics\n",
    "    acc = accuracy_score(y_fold_test, y_pred)\n",
    "    prec = precision_score(y_fold_test, y_pred, average='macro')\n",
    "    rec = recall_score(y_fold_test, y_pred, average='macro')\n",
    "    f1 = f1_score(y_fold_test, y_pred, average='macro')\n",
    "    \n",
    "    # Append metrics to the respective lists\n",
    "    accuracies.append(acc)\n",
    "    precisions.append(prec)\n",
    "    recalls.append(rec)\n",
    "    f1_scores.append(f1)\n",
    "\n",
    "# Print the performance metrics for each fold\n",
    "for i, (acc, prec, rec, f1) in enumerate(zip(accuracies, precisions, recalls, f1_scores), 1):\n",
    "    print(f\"Fold {i} - Accuracy: {acc:.4f}, Precision: {prec:.4f}, Recall: {rec:.4f}, F1-score: {f1:.4f}\")\n"
   ]
  },
  {
   "cell_type": "code",
   "execution_count": 19,
   "id": "6841967f",
   "metadata": {},
   "outputs": [
    {
     "data": {
      "image/png": "[encoded data removed]",
      "text/plain": [
       "<Figure size 1200x800 with 1 Axes>"
      ]
     },
     "metadata": {},
     "output_type": "display_data"
    }
   ],
   "source": [
    "# Visualize the performance metrics\n",
    "metrics = [accuracies, precisions, recalls, f1_scores]\n",
    "metric_names = ['Accuracy', 'Precision', 'Recall', 'F1-score']\n",
    "\n",
    "plt.figure(figsize=(12, 8))\n",
    "for metric, name in zip(metrics, metric_names):\n",
    "    plt.plot(metric, label=name)\n",
    "\n",
    "plt.title(\"Performance Metrics across 5 folds\")\n",
    "plt.xlabel(\"Folds\")\n",
    "plt.ylabel(\"Score\")\n",
    "plt.xticks(ticks=range(5), labels=[f\"Fold {i+1}\" for i in range(5)])\n",
    "plt.legend()\n",
    "plt.grid(True)\n",
    "plt.show()\n"
   ]
  },
  {
   "cell_type": "code",
   "execution_count": 20,
   "id": "36cbca6d",
   "metadata": {},
   "outputs": [],
   "source": [
    "from sklearn.metrics import classification_report"
   ]
  },
  {
   "cell_type": "code",
   "execution_count": 21,
   "id": "e70c356f",
   "metadata": {},
   "outputs": [
    {
     "name": "stdout",
     "output_type": "stream",
     "text": [
      "Classification Report for Fold 5:\n",
      "\n",
      "              precision    recall  f1-score   support\n",
      "\n",
      "           1       0.88      0.88      0.88        57\n",
      "           2       0.67      0.70      0.68        23\n",
      "           3       1.00      0.89      0.94         9\n",
      "\n",
      "    accuracy                           0.83        89\n",
      "   macro avg       0.85      0.82      0.83        89\n",
      "weighted avg       0.84      0.83      0.83        89\n",
      "\n"
     ]
    }
   ],
   "source": [
    "# Print the classification report for the current fold\n",
    "print(f\"Classification Report for Fold {i}:\\n\")\n",
    "print(classification_report(y_fold_test, y_pred))\n"
   ]
  },
  {
   "cell_type": "code",
   "execution_count": 22,
   "id": "69f6930c",
   "metadata": {},
   "outputs": [
    {
     "name": "stdout",
     "output_type": "stream",
     "text": [
      "Confusion Matrix:\n",
      "[[50  7  0]\n",
      " [ 7 16  0]\n",
      " [ 0  1  8]]\n"
     ]
    }
   ],
   "source": [
    "# Calculate the confusion matrix\n",
    "confusion = confusion_matrix(y_fold_test, y_pred)\n",
    "\n",
    "# Number of classes\n",
    "num_classes = 3\n",
    "\n",
    "# Print the confusion matrix\n",
    "print(\"Confusion Matrix:\")\n",
    "print(confusion)\n"
   ]
  },
  {
   "cell_type": "code",
   "execution_count": 23,
   "id": "aa765c0b",
   "metadata": {},
   "outputs": [
    {
     "data": {
      "image/png": "[encoded data removed]",
      "text/plain": [
       "<Figure size 800x600 with 1 Axes>"
      ]
     },
     "metadata": {},
     "output_type": "display_data"
    }
   ],
   "source": [
    "plt.figure(figsize=(8, 6))\n",
    "sns.set(font_scale=1.2) \n",
    "\n",
    "sns.heatmap(confusion, annot=True, fmt=\"d\", cmap=\"Blues\", cbar=False, square=True,\n",
    "            xticklabels=range(num_classes), yticklabels=range(num_classes))\n",
    "\n",
    "plt.xlabel(\"Predicted\")\n",
    "plt.ylabel(\"True\")\n",
    "plt.title(\"Confusion Matrix\")\n",
    "\n",
    "plt.show()\n"
   ]
  },
  {
   "cell_type": "code",
   "execution_count": 24,
   "id": "5935f8d4",
   "metadata": {},
   "outputs": [
    {
     "name": "stdout",
     "output_type": "stream",
     "text": [
      "Class 1 - Precision: 0.88, Recall: 0.88, F1-Score: 0.88\n",
      "Class 2 - Precision: 0.67, Recall: 0.70, F1-Score: 0.68\n",
      "Class 3 - Precision: 1.00, Recall: 0.89, F1-Score: 0.94\n"
     ]
    }
   ],
   "source": [
    "# Calculate the precision, recall, and F1-score for each class\n",
    "for i in range(num_classes):\n",
    "    class_precision = confusion[i, i] / max(1, sum(confusion[:, i]))\n",
    "    class_recall = confusion[i, i] / max(1, sum(confusion[i, :]))\n",
    "    class_f1 = 2 * (class_precision * class_recall) / max(1e-9, (class_precision + class_recall))\n",
    "    \n",
    "    print(f\"Class {i + 1} - Precision: {class_precision:.2f}, Recall: {class_recall:.2f}, F1-Score: {class_f1:.2f}\")\n"
   ]
  },
  {
   "cell_type": "code",
   "execution_count": 25,
   "id": "cd2494b4",
   "metadata": {},
   "outputs": [],
   "source": [
    "accuracy = accuracy_score(y_fold_test, y_pred)"
   ]
  },
  {
   "cell_type": "code",
   "execution_count": 26,
   "id": "53548a79",
   "metadata": {},
   "outputs": [
    {
     "name": "stdout",
     "output_type": "stream",
     "text": [
      "Accuracy: 0.83\n"
     ]
    }
   ],
   "source": [
    "print(f\"Accuracy: {accuracy:.2f}\")"
   ]
  },
  {
   "cell_type": "code",
   "execution_count": null,
   "id": "187295e2",
   "metadata": {},
   "outputs": [],
   "source": []
  },
  {
   "cell_type": "code",
   "execution_count": null,
   "id": "7f2c650f",
   "metadata": {},
   "outputs": [],
   "source": []
  }
 ],
 "metadata": {
  "kernelspec": {
   "display_name": "Python 3 (ipykernel)",
   "language": "python",
   "name": "python3"
  },
  "language_info": {
   "codemirror_mode": {
    "name": "ipython",
    "version": 3
   },
   "file_extension": ".py",
   "mimetype": "text/x-python",
   "name": "python",
   "nbconvert_exporter": "python",
   "pygments_lexer": "ipython3",
   "version": "3.10.9"
  }
 },
 "nbformat": 4,
 "nbformat_minor": 5
}
